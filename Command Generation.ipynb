{
 "cells": [
  {
   "cell_type": "code",
   "execution_count": null,
   "metadata": {},
   "outputs": [],
   "source": [
    "cd PycharmProjects/master_thesis/ && conda activate torch && export TORCH_HOME=/home/lucky/datasets"
   ]
  },
  {
   "cell_type": "code",
   "execution_count": 1,
   "metadata": {},
   "outputs": [
    {
     "data": {
      "text/plain": [
       "['CUDA_VISIBLE_DEVICES=0 bash ./scripts-search/algos/DARTS-V1.sh cifar100 1 -1 aeeasy 0.75 && CUDA_VISIBLE_DEVICES=0 bash ./scripts-search/algos/DARTS-V1.sh cifar100 1 -1 aeeasy 0.50 && CUDA_VISIBLE_DEVICES=0 bash ./scripts-search/algos/DARTS-V1.sh cifar100 1 -1 aeeasy 0.25 && CUDA_VISIBLE_DEVICES=0 bash ./scripts-search/algos/DARTS-V1.sh cifar100 1 -1 tleasy 0.75 && CUDA_VISIBLE_DEVICES=0 bash ./scripts-search/algos/DARTS-V1.sh cifar100 1 -1 tleasy 0.50 && CUDA_VISIBLE_DEVICES=0 bash ./scripts-search/algos/DARTS-V1.sh cifar100 1 -1 tleasy 0.25',\n",
       " 'CUDA_VISIBLE_DEVICES=1 bash ./scripts-search/algos/DARTS-V2.sh cifar100 1 -1 aeeasy 0.75 && CUDA_VISIBLE_DEVICES=1 bash ./scripts-search/algos/DARTS-V2.sh cifar100 1 -1 aeeasy 0.50 && CUDA_VISIBLE_DEVICES=1 bash ./scripts-search/algos/DARTS-V2.sh cifar100 1 -1 aeeasy 0.25 && CUDA_VISIBLE_DEVICES=1 bash ./scripts-search/algos/DARTS-V2.sh cifar100 1 -1 tleasy 0.75 && CUDA_VISIBLE_DEVICES=1 bash ./scripts-search/algos/DARTS-V2.sh cifar100 1 -1 tleasy 0.50 && CUDA_VISIBLE_DEVICES=1 bash ./scripts-search/algos/DARTS-V2.sh cifar100 1 -1 tleasy 0.25',\n",
       " 'CUDA_VISIBLE_DEVICES=2 bash ./scripts-search/algos/ENAS.sh cifar100 1 -1 aeeasy 0.75 && CUDA_VISIBLE_DEVICES=2 bash ./scripts-search/algos/ENAS.sh cifar100 1 -1 aeeasy 0.50 && CUDA_VISIBLE_DEVICES=2 bash ./scripts-search/algos/ENAS.sh cifar100 1 -1 aeeasy 0.25 && CUDA_VISIBLE_DEVICES=2 bash ./scripts-search/algos/ENAS.sh cifar100 1 -1 tleasy 0.75 && CUDA_VISIBLE_DEVICES=2 bash ./scripts-search/algos/ENAS.sh cifar100 1 -1 tleasy 0.50 && CUDA_VISIBLE_DEVICES=2 bash ./scripts-search/algos/ENAS.sh cifar100 1 -1 tleasy 0.25',\n",
       " 'CUDA_VISIBLE_DEVICES=3 bash ./scripts-search/algos/GDAS.sh cifar100 1 -1 aeeasy 0.75 && CUDA_VISIBLE_DEVICES=3 bash ./scripts-search/algos/GDAS.sh cifar100 1 -1 aeeasy 0.50 && CUDA_VISIBLE_DEVICES=3 bash ./scripts-search/algos/GDAS.sh cifar100 1 -1 aeeasy 0.25 && CUDA_VISIBLE_DEVICES=3 bash ./scripts-search/algos/GDAS.sh cifar100 1 -1 tleasy 0.75 && CUDA_VISIBLE_DEVICES=3 bash ./scripts-search/algos/GDAS.sh cifar100 1 -1 tleasy 0.50 && CUDA_VISIBLE_DEVICES=3 bash ./scripts-search/algos/GDAS.sh cifar100 1 -1 tleasy 0.25']"
      ]
     },
     "execution_count": 1,
     "metadata": {},
     "output_type": "execute_result"
    }
   ],
   "source": [
    "nas_list = ['DARTS-V1', 'DARTS-V2', 'ENAS', 'GDAS']\n",
    "#sampling_list = ['rs', 'ccrs']\n",
    "#sampling_list = ['cc_outlier_removal']\n",
    "sampling_list = ['aeeasy', 'tleasy']\n",
    "fractions = ['0.75', '0.50', '0.25']\n",
    "\n",
    "commands = []\n",
    "for n, nas_approach in enumerate(nas_list):\n",
    "    #command = \"CUDA_VISIBLE_DEVICES=\" + str(n) + \" bash ./scripts-search/algos/\" + nas_approach + \".sh cifar100 1 -1 baseline 1.0\"\n",
    "    command = \"\"\n",
    "    for sampling_element in sampling_list:\n",
    "        for fraction in fractions:\n",
    "            if command != \"\":\n",
    "                command += \" && \"\n",
    "            command += \"CUDA_VISIBLE_DEVICES=\" + str(n) + \" bash ./scripts-search/algos/\" + nas_approach + \".sh cifar100 1 -1 \"\n",
    "            command += sampling_element + \" \" + fraction\n",
    "    commands.append(command)\n",
    "commands"
   ]
  },
  {
   "cell_type": "code",
   "execution_count": 2,
   "metadata": {},
   "outputs": [
    {
     "data": {
      "text/plain": [
       "['CUDA_VISIBLE_DEVICES=0 bash ./scripts-search/algos/DARTS-V1.sh ImageNet16-120 1 -1 aeeasy 0.75 && CUDA_VISIBLE_DEVICES=0 bash ./scripts-search/algos/DARTS-V1.sh ImageNet16-120 1 -1 aeeasy 0.50 && CUDA_VISIBLE_DEVICES=0 bash ./scripts-search/algos/DARTS-V1.sh ImageNet16-120 1 -1 aeeasy 0.25 && CUDA_VISIBLE_DEVICES=0 bash ./scripts-search/algos/DARTS-V1.sh ImageNet16-120 1 -1 tleasy 0.75 && CUDA_VISIBLE_DEVICES=0 bash ./scripts-search/algos/DARTS-V1.sh ImageNet16-120 1 -1 tleasy 0.50 && CUDA_VISIBLE_DEVICES=0 bash ./scripts-search/algos/DARTS-V1.sh ImageNet16-120 1 -1 tleasy 0.25',\n",
       " 'CUDA_VISIBLE_DEVICES=1 bash ./scripts-search/algos/DARTS-V2.sh ImageNet16-120 1 -1 aeeasy 0.75 && CUDA_VISIBLE_DEVICES=1 bash ./scripts-search/algos/DARTS-V2.sh ImageNet16-120 1 -1 aeeasy 0.50 && CUDA_VISIBLE_DEVICES=1 bash ./scripts-search/algos/DARTS-V2.sh ImageNet16-120 1 -1 aeeasy 0.25 && CUDA_VISIBLE_DEVICES=1 bash ./scripts-search/algos/DARTS-V2.sh ImageNet16-120 1 -1 tleasy 0.75 && CUDA_VISIBLE_DEVICES=1 bash ./scripts-search/algos/DARTS-V2.sh ImageNet16-120 1 -1 tleasy 0.50 && CUDA_VISIBLE_DEVICES=1 bash ./scripts-search/algos/DARTS-V2.sh ImageNet16-120 1 -1 tleasy 0.25',\n",
       " 'CUDA_VISIBLE_DEVICES=2 bash ./scripts-search/algos/ENAS.sh ImageNet16-120 1 -1 aeeasy 0.75 && CUDA_VISIBLE_DEVICES=2 bash ./scripts-search/algos/ENAS.sh ImageNet16-120 1 -1 aeeasy 0.50 && CUDA_VISIBLE_DEVICES=2 bash ./scripts-search/algos/ENAS.sh ImageNet16-120 1 -1 aeeasy 0.25 && CUDA_VISIBLE_DEVICES=2 bash ./scripts-search/algos/ENAS.sh ImageNet16-120 1 -1 tleasy 0.75 && CUDA_VISIBLE_DEVICES=2 bash ./scripts-search/algos/ENAS.sh ImageNet16-120 1 -1 tleasy 0.50 && CUDA_VISIBLE_DEVICES=2 bash ./scripts-search/algos/ENAS.sh ImageNet16-120 1 -1 tleasy 0.25',\n",
       " 'CUDA_VISIBLE_DEVICES=3 bash ./scripts-search/algos/GDAS.sh ImageNet16-120 1 -1 aeeasy 0.75 && CUDA_VISIBLE_DEVICES=3 bash ./scripts-search/algos/GDAS.sh ImageNet16-120 1 -1 aeeasy 0.50 && CUDA_VISIBLE_DEVICES=3 bash ./scripts-search/algos/GDAS.sh ImageNet16-120 1 -1 aeeasy 0.25 && CUDA_VISIBLE_DEVICES=3 bash ./scripts-search/algos/GDAS.sh ImageNet16-120 1 -1 tleasy 0.75 && CUDA_VISIBLE_DEVICES=3 bash ./scripts-search/algos/GDAS.sh ImageNet16-120 1 -1 tleasy 0.50 && CUDA_VISIBLE_DEVICES=3 bash ./scripts-search/algos/GDAS.sh ImageNet16-120 1 -1 tleasy 0.25']"
      ]
     },
     "execution_count": 2,
     "metadata": {},
     "output_type": "execute_result"
    }
   ],
   "source": [
    "nas_list = ['DARTS-V1', 'DARTS-V2', 'ENAS', 'GDAS']\n",
    "#sampling_list = ['rs', 'ccrs']\n",
    "#sampling_list = ['cc_outlier_removal']\n",
    "sampling_list = ['aeeasy', 'tleasy']\n",
    "fractions = ['0.75', '0.50', '0.25']\n",
    "\n",
    "commands = []\n",
    "for n, nas_approach in enumerate(nas_list):\n",
    "    #command = \"CUDA_VISIBLE_DEVICES=\" + str(n) + \" bash ./scripts-search/algos/\" + nas_approach + \".sh cifar100 1 -1 baseline 1.0\"\n",
    "    command = \"\"\n",
    "    for sampling_element in sampling_list:\n",
    "        for fraction in fractions:\n",
    "            if command != \"\":\n",
    "                command += \" && \"\n",
    "            command += \"CUDA_VISIBLE_DEVICES=\" + str(n) + \" bash ./scripts-search/algos/\" + nas_approach + \".sh ImageNet16-120 1 -1 \"\n",
    "            command += sampling_element + \" \" + fraction\n",
    "    commands.append(command)\n",
    "commands"
   ]
  },
  {
   "cell_type": "code",
   "execution_count": 3,
   "metadata": {},
   "outputs": [
    {
     "data": {
      "text/plain": [
       "['CUDA_VISIBLE_DEVICES=0 bash ./scripts-search/algos/DARTS-V1.sh cifar100 1 -1 aeeasy 0.75 && CUDA_VISIBLE_DEVICES=0 bash ./scripts-search/algos/DARTS-V1.sh cifar100 1 -1 aeeasy 0.50 && CUDA_VISIBLE_DEVICES=0 bash ./scripts-search/algos/DARTS-V1.sh cifar100 1 -1 aeeasy 0.25 && CUDA_VISIBLE_DEVICES=0 bash ./scripts-search/algos/DARTS-V1.sh cifar100 1 -1 tleasy 0.75 && CUDA_VISIBLE_DEVICES=0 bash ./scripts-search/algos/DARTS-V1.sh cifar100 1 -1 tleasy 0.50 && CUDA_VISIBLE_DEVICES=0 bash ./scripts-search/algos/DARTS-V1.sh cifar100 1 -1 tleasy 0.25',\n",
       " 'CUDA_VISIBLE_DEVICES=1 bash ./scripts-search/algos/DARTS-V2.sh cifar100 1 -1 aeeasy 0.75 && CUDA_VISIBLE_DEVICES=1 bash ./scripts-search/algos/DARTS-V2.sh cifar100 1 -1 aeeasy 0.50 && CUDA_VISIBLE_DEVICES=1 bash ./scripts-search/algos/DARTS-V2.sh cifar100 1 -1 aeeasy 0.25 && CUDA_VISIBLE_DEVICES=1 bash ./scripts-search/algos/DARTS-V2.sh cifar100 1 -1 tleasy 0.75 && CUDA_VISIBLE_DEVICES=1 bash ./scripts-search/algos/DARTS-V2.sh cifar100 1 -1 tleasy 0.50 && CUDA_VISIBLE_DEVICES=1 bash ./scripts-search/algos/DARTS-V2.sh cifar100 1 -1 tleasy 0.25',\n",
       " 'CUDA_VISIBLE_DEVICES=2 bash ./scripts-search/algos/ENAS.sh cifar100 1 -1 aeeasy 0.75 && CUDA_VISIBLE_DEVICES=2 bash ./scripts-search/algos/ENAS.sh cifar100 1 -1 aeeasy 0.50 && CUDA_VISIBLE_DEVICES=2 bash ./scripts-search/algos/ENAS.sh cifar100 1 -1 aeeasy 0.25 && CUDA_VISIBLE_DEVICES=2 bash ./scripts-search/algos/ENAS.sh cifar100 1 -1 tleasy 0.75 && CUDA_VISIBLE_DEVICES=2 bash ./scripts-search/algos/ENAS.sh cifar100 1 -1 tleasy 0.50 && CUDA_VISIBLE_DEVICES=2 bash ./scripts-search/algos/ENAS.sh cifar100 1 -1 tleasy 0.25',\n",
       " 'CUDA_VISIBLE_DEVICES=3 bash ./scripts-search/algos/GDAS.sh cifar100 1 -1 aeeasy 0.75 && CUDA_VISIBLE_DEVICES=3 bash ./scripts-search/algos/GDAS.sh cifar100 1 -1 aeeasy 0.50 && CUDA_VISIBLE_DEVICES=3 bash ./scripts-search/algos/GDAS.sh cifar100 1 -1 aeeasy 0.25 && CUDA_VISIBLE_DEVICES=3 bash ./scripts-search/algos/GDAS.sh cifar100 1 -1 tleasy 0.75 && CUDA_VISIBLE_DEVICES=3 bash ./scripts-search/algos/GDAS.sh cifar100 1 -1 tleasy 0.50 && CUDA_VISIBLE_DEVICES=3 bash ./scripts-search/algos/GDAS.sh cifar100 1 -1 tleasy 0.25']"
      ]
     },
     "execution_count": 3,
     "metadata": {},
     "output_type": "execute_result"
    }
   ],
   "source": [
    "nas_list = ['DARTS-V1', 'DARTS-V2', 'ENAS', 'GDAS']\n",
    "#sampling_list = ['rs', 'ccrs']\n",
    "#sampling_list = ['cc_outlier_removal']\n",
    "sampling_list = ['aeeasy', 'tleasy']\n",
    "fractions = ['0.75', '0.50', '0.25']\n",
    "\n",
    "commands = []\n",
    "for n, nas_approach in enumerate(nas_list):\n",
    "    #command = \"CUDA_VISIBLE_DEVICES=\" + str(n) + \" bash ./scripts-search/algos/\" + nas_approach + \".sh cifar100 1 -1 baseline 1.0\"\n",
    "    command = \"\"\n",
    "    for sampling_element in sampling_list:\n",
    "        for fraction in fractions:\n",
    "            if command != \"\":\n",
    "                command += \" && \"\n",
    "            command += \"CUDA_VISIBLE_DEVICES=\" + str(n) + \" bash ./scripts-search/algos/\" + nas_approach + \".sh cifar100 1 -1 \"\n",
    "            command += sampling_element + \" \" + fraction\n",
    "    commands.append(command)\n",
    "commands"
   ]
  },
  {
   "cell_type": "code",
   "execution_count": 4,
   "metadata": {},
   "outputs": [],
   "source": [
    "channels = [16, 32, 64]\n",
    "\n",
    "def train_a_net_command(network, cuda_device=-1, server=False):\n",
    "    command = \"\"\n",
    "    for channel in channels:\n",
    "        if command != \"\":\n",
    "            command += \" && \"\n",
    "        if cuda_device != -1:\n",
    "            command += \"CUDA_VISIBLE_DEVICES=\" + str(cuda_device) + \" \"\n",
    "        if server:\n",
    "            command += \"bash ./scripts-search/NAS-Bench-201/train-a-net-exp.sh \"\n",
    "        else:\n",
    "            command += \"bash ./scripts-search/NAS-Bench-201/train-a-net.sh \" \n",
    "        command += \"'\" + network + \"' \" + str(channel) + \" 5\"\n",
    "    return command"
   ]
  },
  {
   "cell_type": "code",
   "execution_count": 5,
   "metadata": {},
   "outputs": [],
   "source": [
    "num_cells = [6, 8, 10, 12]\n",
    "\n",
    "def train_a_net_2_command(network, cuda_device=-1, server=False):\n",
    "    command = \"\"\n",
    "    for num_cell in num_cells:\n",
    "        if command != \"\":\n",
    "            command += \" && \"\n",
    "        if cuda_device != -1:\n",
    "            command += \"CUDA_VISIBLE_DEVICES=\" + str(cuda_device) + \" \"\n",
    "        if server:\n",
    "            command += \"bash ./scripts-search/NAS-Bench-201/train-a-net-exp_imagenet.sh \"\n",
    "        else:\n",
    "            command += \"bash ./scripts-search/NAS-Bench-201/train-a-net.sh \" \n",
    "        command += \"'\" + network + \"' \" + \"64 \" + str(num_cell)\n",
    "    return command"
   ]
  },
  {
   "cell_type": "code",
   "execution_count": 6,
   "metadata": {},
   "outputs": [
    {
     "name": "stdout",
     "output_type": "stream",
     "text": [
      "[Errno 2] No such file or directory: '/netscratch/moser/master_thesis/ && export TORCH_HOME=/netscratch/moser/master_thesis/'\n",
      "/home/lucky/PycharmProjects/master_thesis\n"
     ]
    }
   ],
   "source": [
    "cd /netscratch/moser/master_thesis/ && export TORCH_HOME=/netscratch/moser/master_thesis/"
   ]
  },
  {
   "cell_type": "code",
   "execution_count": 7,
   "metadata": {},
   "outputs": [
    {
     "ename": "SyntaxError",
     "evalue": "invalid syntax (<ipython-input-7-d04b701dc580>, line 1)",
     "output_type": "error",
     "traceback": [
      "\u001b[0;36m  File \u001b[0;32m\"<ipython-input-7-d04b701dc580>\"\u001b[0;36m, line \u001b[0;32m1\u001b[0m\n\u001b[0;31m    srun -p RTX6000 --ntasks 1 -K -N1 --gpus=1 --gpus-per-task=1 --cpus-per-gpu=4 --mem-per-gpu=16G\\\u001b[0m\n\u001b[0m                  ^\u001b[0m\n\u001b[0;31mSyntaxError\u001b[0m\u001b[0;31m:\u001b[0m invalid syntax\n"
     ]
    }
   ],
   "source": [
    "srun -p RTX6000 --ntasks 1 -K -N1 --gpus=1 --gpus-per-task=1 --cpus-per-gpu=4 --mem-per-gpu=16G\\\n"
   ]
  },
  {
   "cell_type": "code",
   "execution_count": 9,
   "metadata": {},
   "outputs": [
    {
     "data": {
      "text/plain": [
       "\"CUDA_VISIBLE_DEVICES=0 bash ./scripts-search/NAS-Bench-201/train-a-net.sh '|nor_conv_1x1~0|+|nor_conv_1x1~0|skip_connect~1|+|nor_conv_3x3~0|none~1|none~2|+|nor_conv_3x3~0|nor_conv_1x1~1|nor_conv_3x3~2|nor_conv_3x3~3|' 64 6 && CUDA_VISIBLE_DEVICES=0 bash ./scripts-search/NAS-Bench-201/train-a-net.sh '|nor_conv_1x1~0|+|nor_conv_1x1~0|skip_connect~1|+|nor_conv_3x3~0|none~1|none~2|+|nor_conv_3x3~0|nor_conv_1x1~1|nor_conv_3x3~2|nor_conv_3x3~3|' 64 8 && CUDA_VISIBLE_DEVICES=0 bash ./scripts-search/NAS-Bench-201/train-a-net.sh '|nor_conv_1x1~0|+|nor_conv_1x1~0|skip_connect~1|+|nor_conv_3x3~0|none~1|none~2|+|nor_conv_3x3~0|nor_conv_1x1~1|nor_conv_3x3~2|nor_conv_3x3~3|' 64 10 && CUDA_VISIBLE_DEVICES=0 bash ./scripts-search/NAS-Bench-201/train-a-net.sh '|nor_conv_1x1~0|+|nor_conv_1x1~0|skip_connect~1|+|nor_conv_3x3~0|none~1|none~2|+|nor_conv_3x3~0|nor_conv_1x1~1|nor_conv_3x3~2|nor_conv_3x3~3|' 64 12\""
      ]
     },
     "execution_count": 9,
     "metadata": {},
     "output_type": "execute_result"
    }
   ],
   "source": [
    "s = \"|nor_conv_1x1~0|+|nor_conv_1x1~0|skip_connect~1|+|nor_conv_3x3~0|none~1|none~2|+|nor_conv_3x3~0|nor_conv_1x1~1|nor_conv_3x3~2|nor_conv_3x3~3|\"\n",
    "train_a_net_2_command(s, 0, False)"
   ]
  },
  {
   "cell_type": "code",
   "execution_count": 14,
   "metadata": {
    "scrolled": true
   },
   "outputs": [
    {
     "data": {
      "text/plain": [
       "\"bash ./scripts-search/NAS-Bench-201/train-a-net-exp_imagenet.sh '|nor_conv_3x3~0|+|none~0|nor_conv_3x3~1|+|skip_connect~0|nor_conv_3x3~1|nor_conv_3x3~2|+|skip_connect~0|skip_connect~1|nor_conv_1x1~2|nor_conv_3x3~3|' 64 6 && bash ./scripts-search/NAS-Bench-201/train-a-net-exp_imagenet.sh '|nor_conv_3x3~0|+|none~0|nor_conv_3x3~1|+|skip_connect~0|nor_conv_3x3~1|nor_conv_3x3~2|+|skip_connect~0|skip_connect~1|nor_conv_1x1~2|nor_conv_3x3~3|' 64 8 && bash ./scripts-search/NAS-Bench-201/train-a-net-exp_imagenet.sh '|nor_conv_3x3~0|+|none~0|nor_conv_3x3~1|+|skip_connect~0|nor_conv_3x3~1|nor_conv_3x3~2|+|skip_connect~0|skip_connect~1|nor_conv_1x1~2|nor_conv_3x3~3|' 64 10 && bash ./scripts-search/NAS-Bench-201/train-a-net-exp_imagenet.sh '|nor_conv_3x3~0|+|none~0|nor_conv_3x3~1|+|skip_connect~0|nor_conv_3x3~1|nor_conv_3x3~2|+|skip_connect~0|skip_connect~1|nor_conv_1x1~2|nor_conv_3x3~3|' 64 12\""
      ]
     },
     "execution_count": 14,
     "metadata": {},
     "output_type": "execute_result"
    }
   ],
   "source": [
    "s = \"|nor_conv_3x3~0|+|none~0|nor_conv_3x3~1|+|skip_connect~0|nor_conv_3x3~1|nor_conv_3x3~2|+|skip_connect~0|skip_connect~1|nor_conv_1x1~2|nor_conv_3x3~3|\"\n",
    "train_a_net_2_command(s, -1, True)"
   ]
  },
  {
   "cell_type": "code",
   "execution_count": 59,
   "metadata": {},
   "outputs": [
    {
     "data": {
      "text/plain": [
       "\"bash ./scripts-search/NAS-Bench-201/train-a-net-exp.sh '|skip_connect~0|+|skip_connect~0|skip_connect~1|+|skip_connect~0|avg_pool_3x3~1|avg_pool_3x3~2|+|avg_pool_3x3~0|avg_pool_3x3~1|skip_connect~2|skip_connect~3|' 16 5 && bash ./scripts-search/NAS-Bench-201/train-a-net-exp.sh '|skip_connect~0|+|skip_connect~0|skip_connect~1|+|skip_connect~0|avg_pool_3x3~1|avg_pool_3x3~2|+|avg_pool_3x3~0|avg_pool_3x3~1|skip_connect~2|skip_connect~3|' 32 5 && bash ./scripts-search/NAS-Bench-201/train-a-net-exp.sh '|skip_connect~0|+|skip_connect~0|skip_connect~1|+|skip_connect~0|avg_pool_3x3~1|avg_pool_3x3~2|+|avg_pool_3x3~0|avg_pool_3x3~1|skip_connect~2|skip_connect~3|' 64 5\""
      ]
     },
     "execution_count": 59,
     "metadata": {},
     "output_type": "execute_result"
    }
   ],
   "source": [
    "s = \"|skip_connect~0|+|skip_connect~0|skip_connect~1|+|skip_connect~0|avg_pool_3x3~1|avg_pool_3x3~2|+|avg_pool_3x3~0|avg_pool_3x3~1|skip_connect~2|skip_connect~3|\"\n",
    "train_a_net_command(s, -1, True)"
   ]
  },
  {
   "cell_type": "code",
   "execution_count": 23,
   "metadata": {},
   "outputs": [
    {
     "data": {
      "text/plain": [
       "\"bash ./scripts-search/NAS-Bench-201/train-a-net-exp.sh '|avg_pool_3x3~0|+|skip_connect~0|skip_connect~1|+|avg_pool_3x3~0|skip_connect~1|skip_connect~2|+|avg_pool_3x3~0|avg_pool_3x3~1|avg_pool_3x3~2|skip_connect~3|' 16 5 && bash ./scripts-search/NAS-Bench-201/train-a-net-exp.sh '|avg_pool_3x3~0|+|skip_connect~0|skip_connect~1|+|avg_pool_3x3~0|skip_connect~1|skip_connect~2|+|avg_pool_3x3~0|avg_pool_3x3~1|avg_pool_3x3~2|skip_connect~3|' 32 5 && bash ./scripts-search/NAS-Bench-201/train-a-net-exp.sh '|avg_pool_3x3~0|+|skip_connect~0|skip_connect~1|+|avg_pool_3x3~0|skip_connect~1|skip_connect~2|+|avg_pool_3x3~0|avg_pool_3x3~1|avg_pool_3x3~2|skip_connect~3|' 64 5\""
      ]
     },
     "execution_count": 23,
     "metadata": {},
     "output_type": "execute_result"
    }
   ],
   "source": [
    "s = \"|avg_pool_3x3~0|+|skip_connect~0|skip_connect~1|+|avg_pool_3x3~0|skip_connect~1|skip_connect~2|+|avg_pool_3x3~0|avg_pool_3x3~1|avg_pool_3x3~2|skip_connect~3|\"\n",
    "train_a_net_command(s, -1, True)"
   ]
  },
  {
   "cell_type": "code",
   "execution_count": null,
   "metadata": {},
   "outputs": [],
   "source": []
  }
 ],
 "metadata": {
  "kernelspec": {
   "display_name": "Python 3",
   "language": "python",
   "name": "python3"
  },
  "language_info": {
   "codemirror_mode": {
    "name": "ipython",
    "version": 3
   },
   "file_extension": ".py",
   "mimetype": "text/x-python",
   "name": "python",
   "nbconvert_exporter": "python",
   "pygments_lexer": "ipython3",
   "version": "3.7.9"
  }
 },
 "nbformat": 4,
 "nbformat_minor": 4
}
